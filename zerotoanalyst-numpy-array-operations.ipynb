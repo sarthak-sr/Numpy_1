{
 "cells": [
  {
   "cell_type": "markdown",
   "id": "9c38a586",
   "metadata": {},
   "source": [
    "# 5 MOST Basic but MOST Important NumPy functions:\n",
    "\n",
    "Write a short introduction about Numpy and list the chosen functions. (change this)\n",
    "\n",
    "- random.uniform() function\n",
    "- max, min and index of max and min using argmax/argmin function\n",
    "- where() function \n",
    "- transpose function and cross product\n",
    "- Mean, Mode and Median functions\n",
    "\n",
    "The recommended way to run this notebook is to click the \"Run\" button at the top of this page, and select \"Run on Binder\". This will run the notebook on mybinder.org, a free online service for running Jupyter notebooks."
   ]
  },
  {
   "cell_type": "code",
   "execution_count": 1,
   "id": "d390e5e3",
   "metadata": {},
   "outputs": [],
   "source": [
    "!pip install jovian --upgrade -q"
   ]
  },
  {
   "cell_type": "code",
   "execution_count": 2,
   "id": "605c0f89",
   "metadata": {},
   "outputs": [],
   "source": [
    "import jovian"
   ]
  },
  {
   "cell_type": "code",
   "execution_count": 3,
   "id": "fd8ae2d1",
   "metadata": {},
   "outputs": [
    {
     "data": {
      "application/javascript": [
       "window.require && require([\"base/js/namespace\"],function(Jupyter){Jupyter.notebook.save_checkpoint()})"
      ],
      "text/plain": [
       "<IPython.core.display.Javascript object>"
      ]
     },
     "metadata": {},
     "output_type": "display_data"
    },
    {
     "name": "stdout",
     "output_type": "stream",
     "text": [
      "[jovian] Updating notebook \"sarthak-s-1997/zerotoanalyst-numpy-array-operations\" on https://jovian.ai\u001b[0m\n",
      "[jovian] Committed successfully! https://jovian.ai/sarthak-s-1997/zerotoanalyst-numpy-array-operations\u001b[0m\n"
     ]
    },
    {
     "data": {
      "text/plain": [
       "'https://jovian.ai/sarthak-s-1997/zerotoanalyst-numpy-array-operations'"
      ]
     },
     "execution_count": 3,
     "metadata": {},
     "output_type": "execute_result"
    }
   ],
   "source": [
    "jovian.commit(project='zerotoanalyst-numpy-array-operations')"
   ]
  },
  {
   "cell_type": "markdown",
   "id": "dcf260e9",
   "metadata": {},
   "source": [
    "Let's begin by importing Numpy and listing out the functions covered in this notebook."
   ]
  },
  {
   "cell_type": "code",
   "execution_count": 5,
   "id": "f8b476b7",
   "metadata": {},
   "outputs": [],
   "source": [
    "import numpy as np"
   ]
  },
  {
   "cell_type": "markdown",
   "id": "c7733f90",
   "metadata": {},
   "source": [
    "## Function 1 - np.random.uniform()\n",
    "\n",
    "This funciton helps us to generate random values within a defined range.\n"
   ]
  },
  {
   "cell_type": "code",
   "execution_count": 8,
   "id": "a8af6d4f",
   "metadata": {},
   "outputs": [
    {
     "data": {
      "text/plain": [
       "98.9460692317283"
      ]
     },
     "execution_count": 8,
     "metadata": {},
     "output_type": "execute_result"
    }
   ],
   "source": [
    "# Example 1\n",
    "\n",
    "np.random.uniform(1,100)"
   ]
  },
  {
   "cell_type": "markdown",
   "id": "fe76524c",
   "metadata": {},
   "source": [
    "Here, we generated a random value between 1 and 100."
   ]
  },
  {
   "cell_type": "code",
   "execution_count": 11,
   "id": "299e63c8",
   "metadata": {},
   "outputs": [
    {
     "name": "stdout",
     "output_type": "stream",
     "text": [
      "[ 3.95880341 83.6276737  20.32044381 90.75403564 52.04321613 30.24277068\n",
      " 85.35729764 44.38827721 82.19434878 95.32721025]\n",
      "<class 'numpy.ndarray'>\n"
     ]
    }
   ],
   "source": [
    "# Example 2 \n",
    "\n",
    "sample = np.random.uniform(1,100,10)\n",
    "\n",
    "print(sample)\n",
    "\n",
    "print(type(sample))"
   ]
  },
  {
   "cell_type": "markdown",
   "id": "ec9463dc",
   "metadata": {},
   "source": [
    "Here, we generated a numpy array containing random values which are under the defined range. We also defined exactly how many values we wanted in our array. "
   ]
  },
  {
   "cell_type": "code",
   "execution_count": 14,
   "id": "ab624c76",
   "metadata": {},
   "outputs": [
    {
     "name": "stdout",
     "output_type": "stream",
     "text": [
      "[[36.17582092 24.65654545 52.81100428 34.14306357 75.45070955]\n",
      " [31.40210798 31.51524225 21.23927624 48.24275729 34.75139364]]\n"
     ]
    },
    {
     "ename": "ValueError",
     "evalue": "cannot reshape array of size 10 into shape (6,3)",
     "output_type": "error",
     "traceback": [
      "\u001b[0;31m---------------------------------------------------------------------------\u001b[0m",
      "\u001b[0;31mValueError\u001b[0m                                Traceback (most recent call last)",
      "\u001b[0;32m/tmp/ipykernel_40/85152433.py\u001b[0m in \u001b[0;36m<module>\u001b[0;34m\u001b[0m\n\u001b[1;32m      5\u001b[0m \u001b[0mprint\u001b[0m\u001b[0;34m(\u001b[0m\u001b[0msample\u001b[0m\u001b[0;34m)\u001b[0m\u001b[0;34m\u001b[0m\u001b[0;34m\u001b[0m\u001b[0m\n\u001b[1;32m      6\u001b[0m \u001b[0;34m\u001b[0m\u001b[0m\n\u001b[0;32m----> 7\u001b[0;31m \u001b[0mnp\u001b[0m\u001b[0;34m.\u001b[0m\u001b[0mrandom\u001b[0m\u001b[0;34m.\u001b[0m\u001b[0muniform\u001b[0m\u001b[0;34m(\u001b[0m\u001b[0;36m1\u001b[0m\u001b[0;34m,\u001b[0m\u001b[0;36m100\u001b[0m\u001b[0;34m,\u001b[0m\u001b[0;36m10\u001b[0m\u001b[0;34m)\u001b[0m\u001b[0;34m.\u001b[0m\u001b[0mreshape\u001b[0m\u001b[0;34m(\u001b[0m\u001b[0;36m6\u001b[0m\u001b[0;34m,\u001b[0m\u001b[0;36m3\u001b[0m\u001b[0;34m)\u001b[0m\u001b[0;34m\u001b[0m\u001b[0;34m\u001b[0m\u001b[0m\n\u001b[0m",
      "\u001b[0;31mValueError\u001b[0m: cannot reshape array of size 10 into shape (6,3)"
     ]
    }
   ],
   "source": [
    "# Example 3\n",
    "\n",
    "sample = np.random.uniform(1,100,10).reshape(2,5)\n",
    "\n",
    "print(sample)\n",
    "\n",
    "np.random.uniform(1,100,10).reshape(6,3)"
   ]
  },
  {
   "cell_type": "markdown",
   "id": "1fbe989b",
   "metadata": {},
   "source": [
    "Once we generate the random values we can also reshape them, however we have to be careful while reshaping them. For example since we generated 10 values it can be broken down into (2,5) but the same is not true for (6,3)."
   ]
  },
  {
   "cell_type": "markdown",
   "id": "95bb89ca",
   "metadata": {},
   "source": [
    "This function could be helpful while generating any data set for testing any AI/ML model."
   ]
  },
  {
   "cell_type": "code",
   "execution_count": 16,
   "id": "a6612a89",
   "metadata": {},
   "outputs": [
    {
     "data": {
      "application/javascript": [
       "window.require && require([\"base/js/namespace\"],function(Jupyter){Jupyter.notebook.save_checkpoint()})"
      ],
      "text/plain": [
       "<IPython.core.display.Javascript object>"
      ]
     },
     "metadata": {},
     "output_type": "display_data"
    },
    {
     "name": "stdout",
     "output_type": "stream",
     "text": [
      "[jovian] Updating notebook \"sarthak-s-1997/zerotoanalyst-numpy-array-operations\" on https://jovian.ai\u001b[0m\n",
      "[jovian] Committed successfully! https://jovian.ai/sarthak-s-1997/zerotoanalyst-numpy-array-operations\u001b[0m\n"
     ]
    },
    {
     "data": {
      "text/plain": [
       "'https://jovian.ai/sarthak-s-1997/zerotoanalyst-numpy-array-operations'"
      ]
     },
     "execution_count": 16,
     "metadata": {},
     "output_type": "execute_result"
    }
   ],
   "source": [
    "jovian.commit()"
   ]
  },
  {
   "cell_type": "markdown",
   "id": "77f840c7",
   "metadata": {},
   "source": [
    "## Max, Min and ARGMAX, ARGMIN \n",
    "\n",
    "Useful functions to find the min, max and the index of these values of a numpy array."
   ]
  },
  {
   "cell_type": "code",
   "execution_count": 22,
   "id": "c133c7c9",
   "metadata": {},
   "outputs": [
    {
     "name": "stdout",
     "output_type": "stream",
     "text": [
      "[9 7 9 5 9 6]\n",
      "9\n",
      "5\n"
     ]
    }
   ],
   "source": [
    "# Example 1\n",
    "\n",
    "sample = np.random.randint(1,10,6)\n",
    "print(sample)\n",
    "\n",
    "print(np.max(sample))\n",
    "\n",
    "print(np.min(sample))"
   ]
  },
  {
   "cell_type": "markdown",
   "id": "98a2a1a8",
   "metadata": {},
   "source": [
    "Generated a sample numpy array, post then printed the maximun and minimum values present inside the same. "
   ]
  },
  {
   "cell_type": "code",
   "execution_count": 24,
   "id": "00c3b01b",
   "metadata": {},
   "outputs": [
    {
     "name": "stdout",
     "output_type": "stream",
     "text": [
      "[9 7 9 5 9 6]\n",
      "0\n",
      "3\n"
     ]
    }
   ],
   "source": [
    "# Example 2 \n",
    "\n",
    "print(sample)\n",
    "\n",
    "print(np.argmax(sample))\n",
    "print(np.argmin(sample))"
   ]
  },
  {
   "cell_type": "markdown",
   "id": "154bb68b",
   "metadata": {},
   "source": [
    "The argmax function provides us with the index of the numpy array where the value is maximum and minimum. "
   ]
  },
  {
   "cell_type": "code",
   "execution_count": 31,
   "id": "c12273ac",
   "metadata": {},
   "outputs": [
    {
     "name": "stdout",
     "output_type": "stream",
     "text": [
      "[1 0 1]\n",
      "[1 2]\n"
     ]
    }
   ],
   "source": [
    "# Example 3\n",
    "\n",
    "sample1 = np.array([[10, 14, 12],\n",
    "       [13, 11, 15]])\n",
    "\n",
    "print(np.argmax(sample1, axis=0))\n",
    "print(np.argmax(sample1, axis=1))\n"
   ]
  },
  {
   "cell_type": "markdown",
   "id": "777fb4b8",
   "metadata": {},
   "source": [
    "Here, we have used the argmax function to find the maximum value index along a particular axis of a 2D matrix. Note that these are indexes not the exact values."
   ]
  },
  {
   "cell_type": "markdown",
   "id": "846d124a",
   "metadata": {},
   "source": [
    "We can also find the maximum value using the argmax function by calling something like array_name[argmax(array_name)]"
   ]
  },
  {
   "cell_type": "code",
   "execution_count": 32,
   "id": "d1a59b6a",
   "metadata": {
    "scrolled": true
   },
   "outputs": [
    {
     "data": {
      "application/javascript": [
       "window.require && require([\"base/js/namespace\"],function(Jupyter){Jupyter.notebook.save_checkpoint()})"
      ],
      "text/plain": [
       "<IPython.core.display.Javascript object>"
      ]
     },
     "metadata": {},
     "output_type": "display_data"
    },
    {
     "name": "stdout",
     "output_type": "stream",
     "text": [
      "[jovian] Updating notebook \"sarthak-s-1997/zerotoanalyst-numpy-array-operations\" on https://jovian.ai\u001b[0m\n",
      "[jovian] Committed successfully! https://jovian.ai/sarthak-s-1997/zerotoanalyst-numpy-array-operations\u001b[0m\n"
     ]
    },
    {
     "data": {
      "text/plain": [
       "'https://jovian.ai/sarthak-s-1997/zerotoanalyst-numpy-array-operations'"
      ]
     },
     "execution_count": 32,
     "metadata": {},
     "output_type": "execute_result"
    }
   ],
   "source": [
    "jovian.commit()"
   ]
  },
  {
   "cell_type": "markdown",
   "id": "c101ba27",
   "metadata": {},
   "source": [
    "## Where() function\n",
    "\n",
    "This function helps us to identify a condition within a Numpy array and helps us to perform an action on the array when such condition is found.\n",
    "\n",
    "Syntax of the where function:\n",
    "\n",
    "np.where(condition,action if condition is true, action if condition is false)"
   ]
  },
  {
   "cell_type": "code",
   "execution_count": 34,
   "id": "9b8dc73b",
   "metadata": {},
   "outputs": [
    {
     "name": "stdout",
     "output_type": "stream",
     "text": [
      "[ 1 11 21 31 41 51 61 71 81 91]\n"
     ]
    },
    {
     "data": {
      "text/plain": [
       "array([1, 1, 0, 1, 1, 0, 1, 1, 0, 1])"
      ]
     },
     "execution_count": 34,
     "metadata": {},
     "output_type": "execute_result"
    }
   ],
   "source": [
    "# Example \n",
    "\n",
    "sample2=np.arange(1,100,10)\n",
    "print(sample2)\n",
    "\n",
    "np.where(sample2%3==0,0,1)"
   ]
  },
  {
   "cell_type": "markdown",
   "id": "f224be0d",
   "metadata": {},
   "source": [
    "Here, we generated a random array, post that by using the where condition we replaced the elements which are divisible by 3 to 0 and rest all to 1. "
   ]
  },
  {
   "cell_type": "code",
   "execution_count": 35,
   "id": "c1ec2a6b",
   "metadata": {},
   "outputs": [
    {
     "name": "stdout",
     "output_type": "stream",
     "text": [
      "[ 1 11 21 31 41 51 61 71 81 91]\n"
     ]
    },
    {
     "data": {
      "text/plain": [
       "array([ 1, 11,  0, 31, 41,  0, 61, 71,  0, 91])"
      ]
     },
     "execution_count": 35,
     "metadata": {},
     "output_type": "execute_result"
    }
   ],
   "source": [
    "# Example 2\n",
    "\n",
    "sample2=np.arange(1,100,10)\n",
    "print(sample2)\n",
    "\n",
    "np.where(sample2%3==0,0,sample2)"
   ]
  },
  {
   "cell_type": "markdown",
   "id": "8276ed13",
   "metadata": {},
   "source": [
    "Similar to the where function in the above example, herein we have replaced the number divisible by 3 to 0 but have not changed any other elements of the array. "
   ]
  },
  {
   "cell_type": "code",
   "execution_count": 38,
   "id": "dc47f4b8",
   "metadata": {},
   "outputs": [
    {
     "name": "stdout",
     "output_type": "stream",
     "text": [
      "[ 1 15 29 43 57 71 85 99]\n",
      "[ True  True  True  True False False False False]\n"
     ]
    }
   ],
   "source": [
    "# Example 3 - breaking\n",
    "\n",
    "\n",
    "sample2=np.arange(1,100,14)\n",
    "print(sample2)\n",
    "\n",
    "print(sample2<50)"
   ]
  },
  {
   "cell_type": "markdown",
   "id": "59806ad1",
   "metadata": {},
   "source": [
    "Here, do not use the where function, however if we need to present a condition in a true and false manner we can easily do it by just print the required condition. "
   ]
  },
  {
   "cell_type": "markdown",
   "id": "89306bc4",
   "metadata": {},
   "source": [
    "Where function can be used to manipulate data effectively in any data set. "
   ]
  },
  {
   "cell_type": "code",
   "execution_count": 39,
   "id": "c34b5fca",
   "metadata": {},
   "outputs": [
    {
     "data": {
      "application/javascript": [
       "window.require && require([\"base/js/namespace\"],function(Jupyter){Jupyter.notebook.save_checkpoint()})"
      ],
      "text/plain": [
       "<IPython.core.display.Javascript object>"
      ]
     },
     "metadata": {},
     "output_type": "display_data"
    },
    {
     "name": "stdout",
     "output_type": "stream",
     "text": [
      "[jovian] Updating notebook \"sarthak-s-1997/zerotoanalyst-numpy-array-operations\" on https://jovian.ai\u001b[0m\n",
      "[jovian] Committed successfully! https://jovian.ai/sarthak-s-1997/zerotoanalyst-numpy-array-operations\u001b[0m\n"
     ]
    },
    {
     "data": {
      "text/plain": [
       "'https://jovian.ai/sarthak-s-1997/zerotoanalyst-numpy-array-operations'"
      ]
     },
     "execution_count": 39,
     "metadata": {},
     "output_type": "execute_result"
    }
   ],
   "source": [
    "jovian.commit()"
   ]
  },
  {
   "cell_type": "markdown",
   "id": "8c83f6e0",
   "metadata": {},
   "source": [
    "## Transpose function and cross product.\n",
    "\n",
    "Speaking in lay man's terms the transpose funtion is used to convert rows in columns and columns into rows. "
   ]
  },
  {
   "cell_type": "code",
   "execution_count": 56,
   "id": "164ab935",
   "metadata": {},
   "outputs": [
    {
     "name": "stdout",
     "output_type": "stream",
     "text": [
      "[[2 4]\n",
      " [3 6]]\n"
     ]
    }
   ],
   "source": [
    "# Example 1 \n",
    "\n",
    "a1=np.array([[2,3],[4,6]])\n",
    "\n",
    "a2 = np.transpose(a1)\n",
    "\n",
    "print(a2)"
   ]
  },
  {
   "cell_type": "markdown",
   "id": "4dd4fd9b",
   "metadata": {},
   "source": [
    "Example of findind a 2x2 matrix. "
   ]
  },
  {
   "cell_type": "code",
   "execution_count": 68,
   "id": "9095395e",
   "metadata": {},
   "outputs": [
    {
     "name": "stdout",
     "output_type": "stream",
     "text": [
      "[[2 4 4]\n",
      " [3 6 8]\n",
      " [7 9 2]]\n"
     ]
    }
   ],
   "source": [
    "# Example 2 \n",
    "\n",
    "a1=np.array([[2,3,7],[4,6,9],[4,8,2]])\n",
    "\n",
    "a2 = np.transpose(a1)\n",
    "\n",
    "print(a2)\n"
   ]
  },
  {
   "cell_type": "markdown",
   "id": "cbe60530",
   "metadata": {},
   "source": [
    "Example of converting 3x3 matrix using transpose function. "
   ]
  },
  {
   "cell_type": "code",
   "execution_count": 80,
   "id": "f78d9c72",
   "metadata": {},
   "outputs": [
    {
     "name": "stdout",
     "output_type": "stream",
     "text": [
      "[[1. 0. 0.]\n",
      " [0. 1. 0.]\n",
      " [0. 0. 1.]]\n"
     ]
    },
    {
     "data": {
      "text/plain": [
       "array([[0., 0., 0.],\n",
       "       [0., 0., 0.],\n",
       "       [0., 0., 0.]])"
      ]
     },
     "execution_count": 80,
     "metadata": {},
     "output_type": "execute_result"
    }
   ],
   "source": [
    "# Example 3 Verifying results:\n",
    "\n",
    "c=np.eye(3)\n",
    "print(c)\n",
    "\n",
    "np.cross((np.transpose(c)),c)"
   ]
  },
  {
   "cell_type": "markdown",
   "id": "b8d4962f",
   "metadata": {},
   "source": [
    "As in mathematics, the cross product of two identity matrix is zero. The same is evident from the above example."
   ]
  },
  {
   "cell_type": "markdown",
   "id": "1b640ade",
   "metadata": {},
   "source": [
    "This function is useful while performing mathematical calculations. "
   ]
  },
  {
   "cell_type": "code",
   "execution_count": 82,
   "id": "aba76cd8",
   "metadata": {},
   "outputs": [
    {
     "data": {
      "application/javascript": [
       "window.require && require([\"base/js/namespace\"],function(Jupyter){Jupyter.notebook.save_checkpoint()})"
      ],
      "text/plain": [
       "<IPython.core.display.Javascript object>"
      ]
     },
     "metadata": {},
     "output_type": "display_data"
    },
    {
     "name": "stdout",
     "output_type": "stream",
     "text": [
      "[jovian] Updating notebook \"sarthak-s-1997/zerotoanalyst-numpy-array-operations\" on https://jovian.ai\u001b[0m\n",
      "[jovian] Committed successfully! https://jovian.ai/sarthak-s-1997/zerotoanalyst-numpy-array-operations\u001b[0m\n"
     ]
    },
    {
     "data": {
      "text/plain": [
       "'https://jovian.ai/sarthak-s-1997/zerotoanalyst-numpy-array-operations'"
      ]
     },
     "execution_count": 82,
     "metadata": {},
     "output_type": "execute_result"
    }
   ],
   "source": [
    "jovian.commit()"
   ]
  },
  {
   "cell_type": "markdown",
   "id": "f84efe25",
   "metadata": {},
   "source": [
    "## Mean, Mode and Median functions\n",
    "\n",
    "These are the most common tools used statistics."
   ]
  },
  {
   "cell_type": "code",
   "execution_count": 89,
   "id": "eabc8d3b",
   "metadata": {},
   "outputs": [
    {
     "name": "stdout",
     "output_type": "stream",
     "text": [
      "The mean is:88.0\n"
     ]
    }
   ],
   "source": [
    "# Example 1: Mean\n",
    "\n",
    "b1 = np.array([99,86,87,88,86,103,87,94,78,77,85,86])\n",
    "\n",
    "result = np.mean(b1)\n",
    "print(\"The mean is: {}\".format(result))"
   ]
  },
  {
   "cell_type": "markdown",
   "id": "e3b17b41",
   "metadata": {},
   "source": [
    "Mean is the average value, which is sum of all the values divided by the number of values. "
   ]
  },
  {
   "cell_type": "code",
   "execution_count": 92,
   "id": "c0ba46ed",
   "metadata": {},
   "outputs": [
    {
     "ename": "AttributeError",
     "evalue": "module 'numpy' has no attribute 'mode'",
     "output_type": "error",
     "traceback": [
      "\u001b[0;31m---------------------------------------------------------------------------\u001b[0m",
      "\u001b[0;31mAttributeError\u001b[0m                            Traceback (most recent call last)",
      "\u001b[0;32m/tmp/ipykernel_40/3919499759.py\u001b[0m in \u001b[0;36m<module>\u001b[0;34m\u001b[0m\n\u001b[1;32m      3\u001b[0m \u001b[0mb1\u001b[0m \u001b[0;34m=\u001b[0m \u001b[0mnp\u001b[0m\u001b[0;34m.\u001b[0m\u001b[0marray\u001b[0m\u001b[0;34m(\u001b[0m\u001b[0;34m[\u001b[0m\u001b[0;36m99\u001b[0m\u001b[0;34m,\u001b[0m\u001b[0;36m86\u001b[0m\u001b[0;34m,\u001b[0m\u001b[0;36m87\u001b[0m\u001b[0;34m,\u001b[0m\u001b[0;36m88\u001b[0m\u001b[0;34m,\u001b[0m\u001b[0;36m86\u001b[0m\u001b[0;34m,\u001b[0m\u001b[0;36m103\u001b[0m\u001b[0;34m,\u001b[0m\u001b[0;36m87\u001b[0m\u001b[0;34m,\u001b[0m\u001b[0;36m94\u001b[0m\u001b[0;34m,\u001b[0m\u001b[0;36m78\u001b[0m\u001b[0;34m,\u001b[0m\u001b[0;36m77\u001b[0m\u001b[0;34m,\u001b[0m\u001b[0;36m85\u001b[0m\u001b[0;34m,\u001b[0m\u001b[0;36m86\u001b[0m\u001b[0;34m]\u001b[0m\u001b[0;34m)\u001b[0m\u001b[0;34m\u001b[0m\u001b[0;34m\u001b[0m\u001b[0m\n\u001b[1;32m      4\u001b[0m \u001b[0;34m\u001b[0m\u001b[0m\n\u001b[0;32m----> 5\u001b[0;31m \u001b[0mresult\u001b[0m \u001b[0;34m=\u001b[0m \u001b[0mnp\u001b[0m\u001b[0;34m.\u001b[0m\u001b[0mmode\u001b[0m\u001b[0;34m(\u001b[0m\u001b[0mb1\u001b[0m\u001b[0;34m)\u001b[0m\u001b[0;34m\u001b[0m\u001b[0;34m\u001b[0m\u001b[0m\n\u001b[0m\u001b[1;32m      6\u001b[0m \u001b[0;34m\u001b[0m\u001b[0m\n\u001b[1;32m      7\u001b[0m \u001b[0mprint\u001b[0m\u001b[0;34m(\u001b[0m\u001b[0mb1\u001b[0m\u001b[0;34m)\u001b[0m\u001b[0;34m\u001b[0m\u001b[0;34m\u001b[0m\u001b[0m\n",
      "\u001b[0;32m/opt/conda/lib/python3.9/site-packages/numpy/__init__.py\u001b[0m in \u001b[0;36m__getattr__\u001b[0;34m(attr)\u001b[0m\n\u001b[1;32m    301\u001b[0m                 \u001b[0;32mreturn\u001b[0m \u001b[0mTester\u001b[0m\u001b[0;34m\u001b[0m\u001b[0;34m\u001b[0m\u001b[0m\n\u001b[1;32m    302\u001b[0m \u001b[0;34m\u001b[0m\u001b[0m\n\u001b[0;32m--> 303\u001b[0;31m             raise AttributeError(\"module {!r} has no attribute \"\n\u001b[0m\u001b[1;32m    304\u001b[0m                                  \"{!r}\".format(__name__, attr))\n\u001b[1;32m    305\u001b[0m \u001b[0;34m\u001b[0m\u001b[0m\n",
      "\u001b[0;31mAttributeError\u001b[0m: module 'numpy' has no attribute 'mode'"
     ]
    }
   ],
   "source": [
    "# Example 2: Mode\n",
    "\n",
    "b1 = np.array([99,86,87,88,86,103,87,94,78,77,85,86])\n",
    "\n",
    "result = np.mode(b1)\n",
    "\n",
    "print(b1)"
   ]
  },
  {
   "cell_type": "markdown",
   "id": "d423eb52",
   "metadata": {},
   "source": [
    "There is no function for mode in numpy. We need to use an alternative such as \"stats\" from Scipy library to calculate the mode.\n",
    "\n",
    "Mode is the most common value which in the above example is 86, which has shown up three times. "
   ]
  },
  {
   "cell_type": "code",
   "execution_count": 93,
   "id": "e7d68a24",
   "metadata": {},
   "outputs": [
    {
     "name": "stdout",
     "output_type": "stream",
     "text": [
      "The median is: 86.5\n"
     ]
    }
   ],
   "source": [
    "# Example 3: Median\n",
    "\n",
    "b1 = np.array([99,86,87,88,86,103,87,94,78,77,85,86])\n",
    "\n",
    "result = np.median(b1)\n",
    "print(\"The median is: {}\".format(result))"
   ]
  },
  {
   "cell_type": "markdown",
   "id": "ee885a96",
   "metadata": {},
   "source": [
    "Median is the mid point value, if the total count of elements is even, then we take two numbers in the middle and calculate their average. "
   ]
  },
  {
   "cell_type": "markdown",
   "id": "20cc1822",
   "metadata": {},
   "source": [
    "These functions are useful in prediction of average, the middle, or the most common value inside the data set. \n",
    "\n",
    "-Sarthak Srivastava"
   ]
  },
  {
   "cell_type": "code",
   "execution_count": 94,
   "id": "25c7be06",
   "metadata": {},
   "outputs": [
    {
     "data": {
      "application/javascript": [
       "window.require && require([\"base/js/namespace\"],function(Jupyter){Jupyter.notebook.save_checkpoint()})"
      ],
      "text/plain": [
       "<IPython.core.display.Javascript object>"
      ]
     },
     "metadata": {},
     "output_type": "display_data"
    },
    {
     "name": "stdout",
     "output_type": "stream",
     "text": [
      "[jovian] Updating notebook \"sarthak-s-1997/zerotoanalyst-numpy-array-operations\" on https://jovian.ai\u001b[0m\n",
      "[jovian] Committed successfully! https://jovian.ai/sarthak-s-1997/zerotoanalyst-numpy-array-operations\u001b[0m\n"
     ]
    },
    {
     "data": {
      "text/plain": [
       "'https://jovian.ai/sarthak-s-1997/zerotoanalyst-numpy-array-operations'"
      ]
     },
     "execution_count": 94,
     "metadata": {},
     "output_type": "execute_result"
    }
   ],
   "source": [
    "jovian.commit()"
   ]
  },
  {
   "cell_type": "markdown",
   "id": "23e913d0",
   "metadata": {},
   "source": [
    "## Conclusion\n",
    "\n",
    "I have discussed the use case of a few common and useful numpy functions. However, the numpy library is huge and there is still a lot to explore. "
   ]
  },
  {
   "cell_type": "markdown",
   "id": "69907e25",
   "metadata": {},
   "source": [
    "## Reference Links\n",
    "Provide links to your references and other interesting articles about Numpy arrays:\n",
    "* Numpy official tutorial : https://numpy.org/doc/stable/user/quickstart.html\n",
    "* Machine Learning Tutorial site: https://machinelearningknowledge.ai\n",
    "* Youtube: https://www.youtube.com\n",
    "* Useful Blog: https://levelup.gitconnected.com/50-numpy-functions-you-really-needed-for-data-science-fa09e8eb0cf0"
   ]
  },
  {
   "cell_type": "code",
   "execution_count": null,
   "id": "a05d8a0f",
   "metadata": {},
   "outputs": [
    {
     "data": {
      "application/javascript": [
       "window.require && require([\"base/js/namespace\"],function(Jupyter){Jupyter.notebook.save_checkpoint()})"
      ],
      "text/plain": [
       "<IPython.core.display.Javascript object>"
      ]
     },
     "metadata": {},
     "output_type": "display_data"
    }
   ],
   "source": [
    "jovian.commit()"
   ]
  },
  {
   "cell_type": "code",
   "execution_count": null,
   "id": "9e4e2b1e",
   "metadata": {},
   "outputs": [],
   "source": []
  }
 ],
 "metadata": {
  "kernelspec": {
   "display_name": "Python 3 (ipykernel)",
   "language": "python",
   "name": "python3"
  },
  "language_info": {
   "codemirror_mode": {
    "name": "ipython",
    "version": 3
   },
   "file_extension": ".py",
   "mimetype": "text/x-python",
   "name": "python",
   "nbconvert_exporter": "python",
   "pygments_lexer": "ipython3",
   "version": "3.9.6"
  }
 },
 "nbformat": 4,
 "nbformat_minor": 5
}
